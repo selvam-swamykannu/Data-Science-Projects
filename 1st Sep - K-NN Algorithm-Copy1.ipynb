{
 "cells": [
  {
   "cell_type": "code",
   "execution_count": 1,
   "metadata": {},
   "outputs": [],
   "source": [
    "# KNN- Algorithm using python\n",
    "#importing libraries\n",
    "import pandas as pd\n",
    "import numpy as np\n",
    "import math\n",
    "import operator"
   ]
  },
  {
   "cell_type": "code",
   "execution_count": 2,
   "metadata": {},
   "outputs": [],
   "source": [
    "# Step 1\n",
    "#importing iris data\n",
    "data = pd.read_csv('iris.csv')\n",
    "#data"
   ]
  },
  {
   "cell_type": "code",
   "execution_count": 3,
   "metadata": {},
   "outputs": [
    {
     "name": "stdout",
     "output_type": "stream",
     "text": [
      "   sepal_length  sepal_width  petal_length  petal_width      species\n",
      "0           5.1          3.5           1.4          0.2  Iris-setosa\n",
      "1           4.9          3.0           1.4          0.2  Iris-setosa\n",
      "2           4.7          3.2           1.3          0.2  Iris-setosa\n",
      "3           4.6          3.1           1.5          0.2  Iris-setosa\n",
      "4           5.0          3.6           1.4          0.2  Iris-setosa\n"
     ]
    }
   ],
   "source": [
    "print(data.head(5))"
   ]
  },
  {
   "cell_type": "code",
   "execution_count": 41,
   "metadata": {},
   "outputs": [],
   "source": [
    "#defining a function which calculates eculidean distance between two data points\n",
    "def euclideanDistance(data1,data2,length):\n",
    "    distance = 0\n",
    "    for x in range(length):\n",
    "        distance = distance + np.square(data1[x]-data2[x])\n",
    "    #print(np.sqrt(distance))\n",
    "    return np.sqrt(distance)"
   ]
  },
  {
   "cell_type": "code",
   "execution_count": 64,
   "metadata": {},
   "outputs": [],
   "source": [
    "\n",
    "#defining KNN model\n",
    "\n",
    "def knn(trainingSet,testInstance,k):\n",
    "    distances = {}\n",
    "    sort = {}\n",
    "    \n",
    "    length = testInstance.shape[1]\n",
    "   # print('test instance', testInstance.shape[1])\n",
    "    #print('length value :',length)\n",
    "    # not understood\n",
    "    \n",
    "    #step 3:\n",
    "    # calculating distance between each row of training data and test data\n",
    "    for x in range(len(trainingSet)):\n",
    "        \n",
    "        #step 3.1\n",
    "        dist = euclideanDistance(testInstance,trainingSet.iloc[x],length)\n",
    "        #print('disntance is:', dist)\n",
    "        distances[x] = dist[0] \n",
    "        #print(dist[0])# not understood\n",
    "    \n",
    "    #step 3.2\n",
    "    # sorting them based on distance\n",
    "    sorted_d = sorted(distances.items(), key= operator.itemgetter(1))\n",
    "    #print('sorted distance is',sorted_d)# not undetstood\n",
    "    \n",
    "    neighbors = []\n",
    "    \n",
    "    #step 3.3\n",
    "    #extracting top k neighbors\n",
    "    for x in range(k):\n",
    "        neighbors.append(sorted_d[x][0])\n",
    "    print('neighbor is :', neighbors)\n",
    "    classVotes = []\n",
    "    \n",
    "    #step 3.4\n",
    "    #calculating most frequent class in neighbors\n",
    "    for x in range(len(neighbors)):\n",
    "        response = trainingSet.iloc[neighbors[x]][-1]\n",
    "        #print('response is:', trainingSet.iloc[neighbors[x]][-1])\n",
    "        classVotes.append(response)\n",
    "    print(classVotes)\n",
    "    \n",
    "    label_list = trainingSet['species'].unique()\n",
    "    print('label lis is ;',label_list)\n",
    "    \n",
    "    count_vote = []\n",
    "    for flower in label_list:\n",
    "        count_vote.append(classVotes.count(flower))\n",
    "    print('count is',count_vote)\n",
    "    \n",
    "    max_count = count_vote.index(max(count_vote))\n",
    "    #print('max count is',max_count)\n",
    "    \n",
    "    result = classVotes[max_count]\n",
    "    print('result is:', result)\n",
    "        \n",
    "        #if response in classVotes:\n",
    "         #   classVotes += 1\n",
    "        #else:\n",
    "         #   classVotes = 1\n",
    "            \n",
    "    # = sorted(classVotes.items(), key=operator.itemgetter(1), reverse = True)\n",
    "    return(result, neighbors)\n",
    "\n",
    "\n"
   ]
  },
  {
   "cell_type": "code",
   "execution_count": 65,
   "metadata": {},
   "outputs": [],
   "source": [
    "testSet = [[7.2, 3.6, 5.1, 2.5]]  #why two square brackets\n",
    "test = pd.DataFrame(testSet)"
   ]
  },
  {
   "cell_type": "code",
   "execution_count": 66,
   "metadata": {},
   "outputs": [
    {
     "name": "stdout",
     "output_type": "stream",
     "text": [
      "\n",
      "\n",
      " with 1 nearest neighbor \n",
      "\n",
      "\n",
      "neighbor is : [141, 139, 120]\n",
      "['Iris-virginica', 'Iris-virginica', 'Iris-virginica']\n",
      "label lis is ; ['Iris-setosa' 'Iris-versicolor' 'Iris-virginica']\n",
      "count is [0, 0, 3]\n",
      "result is: Iris-virginica\n",
      "\n",
      " predicted class of the datapoint = \n",
      " Iris-virginica\n",
      "\n",
      " nearest neighbor of the datapoint =  [141, 139, 120]\n"
     ]
    }
   ],
   "source": [
    "# step 2\n",
    "# with 1 as nearest neighbor i.e., k=1\n",
    "print('\\n\\n with 1 nearest neighbor \\n\\n')\n",
    "k=3\n",
    "\n",
    "#running knn model\n",
    "\n",
    "result,neigh = knn(data,test, k)\n",
    "\n",
    "#predicted class\n",
    "print('\\n predicted class of the datapoint = \\n', result)\n",
    "\n",
    "#nearest neighbor\n",
    "print('\\n nearest neighbor of the datapoint = ', neigh)"
   ]
  },
  {
   "cell_type": "code",
   "execution_count": null,
   "metadata": {},
   "outputs": [],
   "source": []
  }
 ],
 "metadata": {
  "kernelspec": {
   "display_name": "Python 3",
   "language": "python",
   "name": "python3"
  },
  "language_info": {
   "codemirror_mode": {
    "name": "ipython",
    "version": 3
   },
   "file_extension": ".py",
   "mimetype": "text/x-python",
   "name": "python",
   "nbconvert_exporter": "python",
   "pygments_lexer": "ipython3",
   "version": "3.7.3"
  }
 },
 "nbformat": 4,
 "nbformat_minor": 2
}
